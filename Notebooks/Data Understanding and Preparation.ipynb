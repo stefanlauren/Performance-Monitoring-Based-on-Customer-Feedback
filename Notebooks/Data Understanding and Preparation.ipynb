{
 "cells": [
  {
   "cell_type": "markdown",
   "metadata": {},
   "source": [
    "# Data Understanding & Preparation"
   ]
  },
  {
   "cell_type": "code",
   "execution_count": 1,
   "metadata": {},
   "outputs": [],
   "source": [
    "import pandas as pd\n",
    "import numpy as np\n",
    "import matplotlib.pyplot as plt\n",
    "import seaborn as sns\n",
    "import re\n",
    "from nltk.corpus import stopwords, wordnet\n",
    "from nltk.stem import WordNetLemmatizer\n",
    "from nltk import pos_tag\n",
    "import spacy\n",
    "import warnings \n",
    "warnings.filterwarnings('ignore')"
   ]
  },
  {
   "cell_type": "code",
   "execution_count": 2,
   "metadata": {},
   "outputs": [],
   "source": [
    "files = [\n",
    "    'trustpilot_reviews_Avado.csv',\n",
    "    'trustpilot_reviews_BPP.csv',\n",
    "    'trustpilot_reviews_Coursera.csv',\n",
    "    'trustpilot_reviews_Deloitte.csv',\n",
    "    'trustpilot_reviews_DPG_plc.csv',\n",
    "    'trustpilot_reviews_edx.csv',\n",
    "    'trustpilot_reviews_Firebrand_Training.csv',\n",
    "    'trustpilot_reviews_FutureLearn.csv',\n",
    "    'trustpilot_reviews_General_Assembly.csv',\n",
    "    'trustpilot_reviews_ICS_Learn.csv',\n",
    "    'trustpilot_reviews_LearnDirect.csv',\n",
    "    'trustpilot_reviews_Linkedin_Learning.csv',\n",
    "    'trustpilot_reviews_PluralSight.csv',\n",
    "    'trustpilot_reviews_QA_ltd.csv',\n",
    "    'trustpilot_reviews_Udacity.csv',\n",
    "    'trustpilot_reviews_Udemy.csv',\n",
    "    'trustpilot_reviews_Whitehat_Jr.csv'\n",
    "]"
   ]
  },
  {
   "cell_type": "markdown",
   "metadata": {},
   "source": [
    "Gather all feedback into one dataframe."
   ]
  },
  {
   "cell_type": "code",
   "execution_count": 3,
   "metadata": {},
   "outputs": [],
   "source": [
    "df = pd.DataFrame()\n",
    "for file in files:\n",
    "    df_temp = pd.read_csv('../Dataset/competitors/{}'.format(file))\n",
    "    df = df.append(df_temp, ignore_index=True)"
   ]
  },
  {
   "cell_type": "code",
   "execution_count": 4,
   "metadata": {},
   "outputs": [
    {
     "data": {
      "text/html": [
       "<div>\n",
       "<style scoped>\n",
       "    .dataframe tbody tr th:only-of-type {\n",
       "        vertical-align: middle;\n",
       "    }\n",
       "\n",
       "    .dataframe tbody tr th {\n",
       "        vertical-align: top;\n",
       "    }\n",
       "\n",
       "    .dataframe thead th {\n",
       "        text-align: right;\n",
       "    }\n",
       "</style>\n",
       "<table border=\"1\" class=\"dataframe\">\n",
       "  <thead>\n",
       "    <tr style=\"text-align: right;\">\n",
       "      <th></th>\n",
       "      <th>Unnamed: 0</th>\n",
       "      <th>@type</th>\n",
       "      <th>datePublished</th>\n",
       "      <th>headline</th>\n",
       "      <th>inLanguage</th>\n",
       "      <th>reviewBody</th>\n",
       "      <th>author_@type</th>\n",
       "      <th>author_image</th>\n",
       "      <th>author_name</th>\n",
       "      <th>author_url</th>\n",
       "      <th>itemReviewed_@type</th>\n",
       "      <th>itemReviewed_name</th>\n",
       "      <th>publisher_@type</th>\n",
       "      <th>publisher_name</th>\n",
       "      <th>publisher_sameAs</th>\n",
       "      <th>reviewRating_@type</th>\n",
       "      <th>reviewRating_ratingValue</th>\n",
       "    </tr>\n",
       "  </thead>\n",
       "  <tbody>\n",
       "    <tr>\n",
       "      <th>0</th>\n",
       "      <td>0</td>\n",
       "      <td>Review</td>\n",
       "      <td>2021-06-15T02:22:01+00:00</td>\n",
       "      <td>Thanks again to Andre for your prompt…</td>\n",
       "      <td>en</td>\n",
       "      <td>Thanks again to Andre for your prompt follow-u...</td>\n",
       "      <td>Person</td>\n",
       "      <td>NaN</td>\n",
       "      <td>Adeline See</td>\n",
       "      <td>https://uk.trustpilot.com/users/60b9a55d85fa3f...</td>\n",
       "      <td>Thing</td>\n",
       "      <td>Avado</td>\n",
       "      <td>Organization</td>\n",
       "      <td>Trustpilot</td>\n",
       "      <td>https://uk.trustpilot.com</td>\n",
       "      <td>Rating</td>\n",
       "      <td>4</td>\n",
       "    </tr>\n",
       "    <tr>\n",
       "      <th>1</th>\n",
       "      <td>1</td>\n",
       "      <td>Review</td>\n",
       "      <td>2021-06-07T20:17:54+00:00</td>\n",
       "      <td>Very disappointed</td>\n",
       "      <td>en</td>\n",
       "      <td>Very disappointed, I planned on taking this to...</td>\n",
       "      <td>Person</td>\n",
       "      <td>NaN</td>\n",
       "      <td>Master Fury</td>\n",
       "      <td>https://uk.trustpilot.com/users/60be7eebf66049...</td>\n",
       "      <td>Thing</td>\n",
       "      <td>Avado</td>\n",
       "      <td>Organization</td>\n",
       "      <td>Trustpilot</td>\n",
       "      <td>https://uk.trustpilot.com</td>\n",
       "      <td>Rating</td>\n",
       "      <td>1</td>\n",
       "    </tr>\n",
       "    <tr>\n",
       "      <th>2</th>\n",
       "      <td>2</td>\n",
       "      <td>Review</td>\n",
       "      <td>2021-06-02T15:37:44+00:00</td>\n",
       "      <td>Great customer care!</td>\n",
       "      <td>en</td>\n",
       "      <td>Great customer care!</td>\n",
       "      <td>Person</td>\n",
       "      <td>NaN</td>\n",
       "      <td>Nate Rowlan</td>\n",
       "      <td>https://uk.trustpilot.com/users/60b7a5c8b5cea8...</td>\n",
       "      <td>Thing</td>\n",
       "      <td>Avado</td>\n",
       "      <td>Organization</td>\n",
       "      <td>Trustpilot</td>\n",
       "      <td>https://uk.trustpilot.com</td>\n",
       "      <td>Rating</td>\n",
       "      <td>5</td>\n",
       "    </tr>\n",
       "    <tr>\n",
       "      <th>3</th>\n",
       "      <td>3</td>\n",
       "      <td>Review</td>\n",
       "      <td>2021-06-01T16:16:19+00:00</td>\n",
       "      <td>Very helpful with queries and issues</td>\n",
       "      <td>en</td>\n",
       "      <td>Very helpful with queries and issues.  The res...</td>\n",
       "      <td>Person</td>\n",
       "      <td>NaN</td>\n",
       "      <td>Joanne Murgatroyd</td>\n",
       "      <td>https://uk.trustpilot.com/users/5fff4a50410db1...</td>\n",
       "      <td>Thing</td>\n",
       "      <td>Avado</td>\n",
       "      <td>Organization</td>\n",
       "      <td>Trustpilot</td>\n",
       "      <td>https://uk.trustpilot.com</td>\n",
       "      <td>Rating</td>\n",
       "      <td>5</td>\n",
       "    </tr>\n",
       "    <tr>\n",
       "      <th>4</th>\n",
       "      <td>4</td>\n",
       "      <td>Review</td>\n",
       "      <td>2021-06-01T09:16:57+00:00</td>\n",
       "      <td>about amending system error</td>\n",
       "      <td>en</td>\n",
       "      <td>Dear Mr. Andre\\nThank you very much settle for...</td>\n",
       "      <td>Person</td>\n",
       "      <td>NaN</td>\n",
       "      <td>Miyoko Phua</td>\n",
       "      <td>https://uk.trustpilot.com/users/60b5fafcadeb93...</td>\n",
       "      <td>Thing</td>\n",
       "      <td>Avado</td>\n",
       "      <td>Organization</td>\n",
       "      <td>Trustpilot</td>\n",
       "      <td>https://uk.trustpilot.com</td>\n",
       "      <td>Rating</td>\n",
       "      <td>5</td>\n",
       "    </tr>\n",
       "  </tbody>\n",
       "</table>\n",
       "</div>"
      ],
      "text/plain": [
       "   Unnamed: 0   @type              datePublished  \\\n",
       "0           0  Review  2021-06-15T02:22:01+00:00   \n",
       "1           1  Review  2021-06-07T20:17:54+00:00   \n",
       "2           2  Review  2021-06-02T15:37:44+00:00   \n",
       "3           3  Review  2021-06-01T16:16:19+00:00   \n",
       "4           4  Review  2021-06-01T09:16:57+00:00   \n",
       "\n",
       "                                 headline inLanguage  \\\n",
       "0  Thanks again to Andre for your prompt…         en   \n",
       "1                       Very disappointed         en   \n",
       "2                    Great customer care!         en   \n",
       "3    Very helpful with queries and issues         en   \n",
       "4             about amending system error         en   \n",
       "\n",
       "                                          reviewBody author_@type  \\\n",
       "0  Thanks again to Andre for your prompt follow-u...       Person   \n",
       "1  Very disappointed, I planned on taking this to...       Person   \n",
       "2                               Great customer care!       Person   \n",
       "3  Very helpful with queries and issues.  The res...       Person   \n",
       "4  Dear Mr. Andre\\nThank you very much settle for...       Person   \n",
       "\n",
       "  author_image        author_name  \\\n",
       "0          NaN        Adeline See   \n",
       "1          NaN        Master Fury   \n",
       "2          NaN        Nate Rowlan   \n",
       "3          NaN  Joanne Murgatroyd   \n",
       "4          NaN        Miyoko Phua   \n",
       "\n",
       "                                          author_url itemReviewed_@type  \\\n",
       "0  https://uk.trustpilot.com/users/60b9a55d85fa3f...              Thing   \n",
       "1  https://uk.trustpilot.com/users/60be7eebf66049...              Thing   \n",
       "2  https://uk.trustpilot.com/users/60b7a5c8b5cea8...              Thing   \n",
       "3  https://uk.trustpilot.com/users/5fff4a50410db1...              Thing   \n",
       "4  https://uk.trustpilot.com/users/60b5fafcadeb93...              Thing   \n",
       "\n",
       "  itemReviewed_name publisher_@type publisher_name           publisher_sameAs  \\\n",
       "0             Avado    Organization     Trustpilot  https://uk.trustpilot.com   \n",
       "1             Avado    Organization     Trustpilot  https://uk.trustpilot.com   \n",
       "2             Avado    Organization     Trustpilot  https://uk.trustpilot.com   \n",
       "3             Avado    Organization     Trustpilot  https://uk.trustpilot.com   \n",
       "4             Avado    Organization     Trustpilot  https://uk.trustpilot.com   \n",
       "\n",
       "  reviewRating_@type  reviewRating_ratingValue  \n",
       "0             Rating                         4  \n",
       "1             Rating                         1  \n",
       "2             Rating                         5  \n",
       "3             Rating                         5  \n",
       "4             Rating                         5  "
      ]
     },
     "execution_count": 4,
     "metadata": {},
     "output_type": "execute_result"
    }
   ],
   "source": [
    "df.head()"
   ]
  },
  {
   "cell_type": "markdown",
   "metadata": {},
   "source": [
    "## 1. Data Understanding"
   ]
  },
  {
   "cell_type": "markdown",
   "metadata": {},
   "source": [
    "### 1.1. Describe Data\n",
    "\n",
    "Describe the data that has been acquired, including the format of the data, the quantity of data (for\n",
    "example, the number of records and fields in each table), the identities of the fields, and any other surface\n",
    "features which have been discovered. Evaluate whether the data acquired satisfies the relevant requirements."
   ]
  },
  {
   "cell_type": "code",
   "execution_count": 5,
   "metadata": {},
   "outputs": [
    {
     "data": {
      "text/plain": [
       "(20380, 17)"
      ]
     },
     "execution_count": 5,
     "metadata": {},
     "output_type": "execute_result"
    }
   ],
   "source": [
    "df.shape"
   ]
  },
  {
   "cell_type": "markdown",
   "metadata": {},
   "source": [
    "The data is formatted as a csv file with 20380 rows(observations) and 17 columns(features)."
   ]
  },
  {
   "cell_type": "code",
   "execution_count": 6,
   "metadata": {},
   "outputs": [
    {
     "name": "stdout",
     "output_type": "stream",
     "text": [
      "<class 'pandas.core.frame.DataFrame'>\n",
      "RangeIndex: 20380 entries, 0 to 20379\n",
      "Data columns (total 17 columns):\n",
      "Unnamed: 0                  20380 non-null int64\n",
      "@type                       20380 non-null object\n",
      "datePublished               20380 non-null object\n",
      "headline                    20380 non-null object\n",
      "inLanguage                  20380 non-null object\n",
      "reviewBody                  20380 non-null object\n",
      "author_@type                20380 non-null object\n",
      "author_image                2751 non-null object\n",
      "author_name                 20379 non-null object\n",
      "author_url                  20380 non-null object\n",
      "itemReviewed_@type          20380 non-null object\n",
      "itemReviewed_name           20380 non-null object\n",
      "publisher_@type             20380 non-null object\n",
      "publisher_name              20380 non-null object\n",
      "publisher_sameAs            20380 non-null object\n",
      "reviewRating_@type          20380 non-null object\n",
      "reviewRating_ratingValue    20380 non-null int64\n",
      "dtypes: int64(2), object(15)\n",
      "memory usage: 2.6+ MB\n"
     ]
    }
   ],
   "source": [
    "df.info()"
   ]
  },
  {
   "cell_type": "code",
   "execution_count": 7,
   "metadata": {},
   "outputs": [
    {
     "data": {
      "text/plain": [
       "Unnamed: 0                   6464\n",
       "@type                           1\n",
       "datePublished               20361\n",
       "headline                    17206\n",
       "inLanguage                      1\n",
       "reviewBody                  20221\n",
       "author_@type                    1\n",
       "author_image                 2742\n",
       "author_name                 16452\n",
       "author_url                  20344\n",
       "itemReviewed_@type              1\n",
       "itemReviewed_name              17\n",
       "publisher_@type                 1\n",
       "publisher_name                  1\n",
       "publisher_sameAs                1\n",
       "reviewRating_@type              1\n",
       "reviewRating_ratingValue        5\n",
       "dtype: int64"
      ]
     },
     "execution_count": 7,
     "metadata": {},
     "output_type": "execute_result"
    }
   ],
   "source": [
    "df.nunique()"
   ]
  },
  {
   "cell_type": "markdown",
   "metadata": {},
   "source": [
    "Initially, the features are as follow:\n",
    "- Unnamed: 0: integer. Auto-generated index from scraping process.\n",
    "- @type: string. The type of data/information in the review HTML block, which is 'Review'.\n",
    "- datePublished: string. The date and time the review was published/submitted.\n",
    "- headline: string. The head/summary of the review.\n",
    "- inLanguage: string. The detected language used in the review.\n",
    "- reviewBody: string. The body of the review.\n",
    "- author_@type: string. The type of data/information in the author HTML block, which is 'Person'.\n",
    "- author_image: string. The profile picture image of the author of the review, given as a URL to the image.\n",
    "- author_name: string. The name of the author.\n",
    "- author_url: string. The URL to the author Trustpilot profile.\n",
    "- itemReviewed_@type: string. The type of data/information in the target company HTML block, which is 'Thing'.\n",
    "- itemReviewed_name: string. The name of the target company.\n",
    "- publisher_@type: string. The type of data/information in the publisher HTML block, which is 'Organization'.\n",
    "- publisher_name: string. The name of the publisher, in this case is 'Trustpilot'.\n",
    "- publisher_sameAs: string. The URL to the publisher, in this case is 'https://uk.trustpilot.com'.\n",
    "- reviewRating_@type: string. The type of data/information in the ratings HTML block, which is 'Rating'.\n",
    "- reviewRating_ratingValue: integer. The number of ratings given to the reviews with range between 1 and 5 inclusive."
   ]
  },
  {
   "cell_type": "markdown",
   "metadata": {},
   "source": [
    "For columns with '@type' in it, the value of each of the column is the same. For example, column 'author_@type' has only one value 'Person' for the whole dataset. Other than this, the columns 'publisher_name' and 'publisher_sameAs' have the same value for the whole dataset as well because in this case, the publisher is only 'Trustpilot'."
   ]
  },
  {
   "cell_type": "markdown",
   "metadata": {},
   "source": [
    "The dataset fulfills the requirements needed for this project with focus on columns 'headline', 'reviewBody', and 'reviewRating_ratingValue', which make up a complete customer feedback."
   ]
  },
  {
   "cell_type": "markdown",
   "metadata": {},
   "source": [
    "### 1.2. Explore Data\n",
    "\n",
    "Describe results of this task, including first findings or initial hypothesis and their impact on the remainder\n",
    "of the project. If appropriate, include graphs and plots to indicate data characteristics that suggest further\n",
    "examination of interesting data subsets."
   ]
  },
  {
   "cell_type": "code",
   "execution_count": 8,
   "metadata": {},
   "outputs": [
    {
     "data": {
      "text/plain": [
       "Text(0.5, 0, 'Ratings')"
      ]
     },
     "execution_count": 8,
     "metadata": {},
     "output_type": "execute_result"
    },
    {
     "data": {
      "image/png": "[encoded data removed]",
      "text/plain": [
       "<Figure size 576x432 with 1 Axes>"
      ]
     },
     "metadata": {
      "needs_background": "light"
     },
     "output_type": "display_data"
    }
   ],
   "source": [
    "# Ratings count\n",
    "f, ax = plt.subplots(figsize=(8,6))\n",
    "\n",
    "groupedvalues=df.groupby('reviewRating_ratingValue').count().reset_index()\n",
    "\n",
    "pal = sns.color_palette(\"Greens_d\", len(groupedvalues))\n",
    "pal.reverse()\n",
    "rank = groupedvalues[\"Unnamed: 0\"].argsort().argsort() \n",
    "\n",
    "g = sns.countplot(data=df,\n",
    "                   x=\"reviewRating_ratingValue\", \n",
    "                   palette=np.array(pal[::-1])[rank],\n",
    "                   ax=ax\n",
    "                  )\n",
    "\n",
    "for index, row in groupedvalues.iterrows():\n",
    "    g.text(row.name,row[\"Unnamed: 0\"], round(row[\"Unnamed: 0\"],2), color='black', ha=\"center\", va=\"bottom\")\n",
    "\n",
    "ax.set_title('Distribution of Ratings')\n",
    "ax.set_ylabel('Count')\n",
    "ax.set_xlabel('Ratings')"
   ]
  },
  {
   "cell_type": "code",
   "execution_count": 9,
   "metadata": {},
   "outputs": [
    {
     "data": {
      "text/plain": [
       "<seaborn.axisgrid.FacetGrid at 0x2451c935348>"
      ]
     },
     "execution_count": 9,
     "metadata": {},
     "output_type": "execute_result"
    },
    {
     "data": {
      "image/png": "[encoded data removed]",
      "text/plain": [
       "<Figure size 792x633.6 with 17 Axes>"
      ]
     },
     "metadata": {
      "needs_background": "light"
     },
     "output_type": "display_data"
    }
   ],
   "source": [
    "# Ratings by company\n",
    "pal = sns.color_palette(\"Purples_d\", 5)\n",
    "\n",
    "g = sns.FacetGrid(df, # initialise FacetGrid, this will not draw the plots\n",
    "                  col=\"itemReviewed_name\", \n",
    "                  height=2.2, \n",
    "                  aspect=1, \n",
    "                  col_wrap=5,\n",
    "                  margin_titles=True\n",
    "                 ) \n",
    "g.map(sns.countplot, \"reviewRating_ratingValue\", palette=pal) # Draw the plot using map function\n",
    "g.set_axis_labels(\"Ratings\", \"Count\", fontsize=14)\n",
    "g.set_titles(col_template=\"{col_name}\", row_template=\"{row_name}\", size=16)"
   ]
  },
  {
   "cell_type": "code",
   "execution_count": 10,
   "metadata": {},
   "outputs": [
    {
     "data": {
      "text/plain": [
       "Text(0.5, 0, 'Total (Head+Body) Words Count')"
      ]
     },
     "execution_count": 10,
     "metadata": {},
     "output_type": "execute_result"
    },
    {
     "data": {
      "image/png": "[encoded data removed]",
      "text/plain": [
       "<Figure size 576x432 with 1 Axes>"
      ]
     },
     "metadata": {
      "needs_background": "light"
     },
     "output_type": "display_data"
    }
   ],
   "source": [
    "# Total (Head + Body) length by words\n",
    "df['head_word_count'] = df['headline'].apply(lambda x: len(str(x).split()))\n",
    "df['body_word_count'] = df['reviewBody'].apply(lambda x: len(str(x).split()))\n",
    "df['total_word_count'] = df['head_word_count'] + df['body_word_count']\n",
    "\n",
    "f, ax = plt.subplots(figsize=(8,6))\n",
    "\n",
    "pal = sns.color_palette(\"Greens_d\")\n",
    "pal.reverse()\n",
    "\n",
    "sns.histplot(data=df, \n",
    "             x=\"total_word_count\",\n",
    "             stat=\"count\", # 'count', 'frequency', 'density', 'probability'\n",
    "             bins=20, # number of bins\n",
    "             binwidth=25, # width of each bins. Override bins parameter\n",
    "             element='step', # 'bars', 'step', 'poly'. Univariate only\n",
    "             #palette=\"dark\", # 'deep', 'muted', 'bright', 'pastel', 'dark', 'colorblind'\n",
    "             #legend=True, # True or False\n",
    "             color='#278a50',\n",
    "             ax=ax\n",
    "            )\n",
    "\n",
    "ax.set_title('Distribution of Feedback Length')\n",
    "ax.set_ylabel('Count')\n",
    "ax.set_xlabel('Total (Head+Body) Words Count')"
   ]
  },
  {
   "cell_type": "code",
   "execution_count": 11,
   "metadata": {},
   "outputs": [
    {
     "data": {
      "text/plain": [
       "Text(0.5, 0, 'Ratings')"
      ]
     },
     "execution_count": 11,
     "metadata": {},
     "output_type": "execute_result"
    },
    {
     "data": {
      "image/png": "[encoded data removed]",
      "text/plain": [
       "<Figure size 360x421.2 with 1 Axes>"
      ]
     },
     "metadata": {
      "needs_background": "light"
     },
     "output_type": "display_data"
    }
   ],
   "source": [
    "# Average Total (Head + Body) length by ratings\n",
    "f, ax = plt.subplots(figsize=(5,5.85))\n",
    "\n",
    "groupedvalues=df.groupby('reviewRating_ratingValue').count().reset_index()\n",
    "\n",
    "pal = sns.color_palette(\"Greens_d\", len(groupedvalues))\n",
    "rank = groupedvalues[\"Unnamed: 0\"].argsort().argsort() \n",
    "\n",
    "sns.barplot(data=df,\n",
    "                   x=\"reviewRating_ratingValue\", \n",
    "                   y=\"total_word_count\", \n",
    "                   saturation=0.5, # float 0 to 1. Large patches often look better with slightly desaturated colors.\n",
    "                   orient=None, # 'v' or 'h'. Use to resolve ambiguity\n",
    "                   palette=np.array(pal[::-1])[rank], # 'deep', 'muted', 'bright', 'pastel', 'dark', 'colorblind'\n",
    "                   ax=ax\n",
    "                  )\n",
    "\n",
    "ax.set_title('Average Feedback Length per Number of Ratings')\n",
    "ax.set_ylabel('Average Total Word Count')\n",
    "ax.set_xlabel('Ratings')"
   ]
  },
  {
   "cell_type": "code",
   "execution_count": 12,
   "metadata": {},
   "outputs": [
    {
     "data": {
      "text/plain": [
       "<seaborn.axisgrid.FacetGrid at 0x2451c793a08>"
      ]
     },
     "execution_count": 12,
     "metadata": {},
     "output_type": "execute_result"
    },
    {
     "data": {
      "image/png": "[encoded data removed]",
      "text/plain": [
       "<Figure size 360x360 with 1 Axes>"
      ]
     },
     "metadata": {
      "needs_background": "light"
     },
     "output_type": "display_data"
    }
   ],
   "source": [
    "# Total (Head + Body) length by ratings\n",
    "\n",
    "groupedvalues=df.groupby('reviewRating_ratingValue').count().reset_index()\n",
    "\n",
    "pal = sns.color_palette(\"Greens_d\", len(groupedvalues))\n",
    "rank = groupedvalues[\"Unnamed: 0\"].argsort().argsort() \n",
    "\n",
    "g = sns.catplot(data=df,\n",
    "                   x=\"reviewRating_ratingValue\", \n",
    "                   y=\"total_word_count\", \n",
    "                   kind=\"strip\", # 'strip', 'swarm', 'box', 'violin', 'boxen', 'point', 'bar', or 'count'\n",
    "                   height=5, # height in inches for each facet\n",
    "                   aspect=1, # ratio of facet. Width = height * aspect\n",
    "                   palette=np.array(pal[::-1])[rank] # 'deep', 'muted', 'bright', 'pastel', 'dark', 'colorblind'\n",
    "                  )\n",
    "\n",
    "\n",
    "g.fig.suptitle(\"Feedback Length per Number of Ratings\", x=0.55, y=1)\n",
    "plt.subplots_adjust(top=0.97)\n",
    "g.set_axis_labels(\"Ratings\", \"Total Word Count\")"
   ]
  },
  {
   "cell_type": "code",
   "execution_count": 13,
   "metadata": {},
   "outputs": [
    {
     "data": {
      "text/plain": [
       "[Text(0, 0.5, 'Ratings Value'),\n",
       " Text(0, 1.5, 'Head Length'),\n",
       " Text(0, 2.5, 'Body Length'),\n",
       " Text(0, 3.5, 'Total Length')]"
      ]
     },
     "execution_count": 13,
     "metadata": {},
     "output_type": "execute_result"
    },
    {
     "data": {
      "image/png": "[encoded data removed]",
      "text/plain": [
       "<Figure size 720x432 with 2 Axes>"
      ]
     },
     "metadata": {
      "needs_background": "light"
     },
     "output_type": "display_data"
    }
   ],
   "source": [
    "grid_kws = {\"height_ratios\": (.9, .05), \"hspace\": .2} # set ratio of axes grid\n",
    "f, (ax, cbar_ax) = plt.subplots(2, gridspec_kw=grid_kws, figsize=(10,6))\n",
    "\n",
    "df_sliced = df[[\"reviewRating_ratingValue\", \"head_word_count\", \"body_word_count\", \"total_word_count\"]]\n",
    "df_sliced.columns = ['Ratings Value', 'Head Length', 'Body Length', 'Total Length']\n",
    "g=sns.heatmap(data=df_sliced.corr(),\n",
    "            vmin=-1, # min value of colormap\n",
    "            vmax=1, # max value of colormap\n",
    "            annot=True, # If True, write data value in each cell\n",
    "            fmt=\".2f\", # String formatting code for annotation\n",
    "            linewidths=0.1, # Width of the lines that will divide each cell\n",
    "            linecolor=\"White\", # Color of the lines that will divide each cell\n",
    "            cmap=\"RdYlGn\", # The mapping from data values to color space\n",
    "            cbar=True, # Whether to draw a color bar\n",
    "            cbar_ax=cbar_ax, # Which axis to draw the colorbar, if not set, draw in main axis\n",
    "            cbar_kws={\"orientation\": \"horizontal\"},\n",
    "            ax=ax\n",
    "           )\n",
    "g.set_yticklabels(g.get_yticklabels(), rotation = 0)"
   ]
  },
  {
   "cell_type": "markdown",
   "metadata": {},
   "source": [
    "Suggestion: need to wait for sentiment classification and see the correlation with the sentiment value as well."
   ]
  },
  {
   "cell_type": "markdown",
   "metadata": {},
   "source": [
    "### 1.3. Verify Data Quality\n",
    "\n",
    "List the results of the data quality verification; if quality problems exist, list possible solutions. Solutions\n",
    "to data quality problems generally depend heavily on both data and business knowledge."
   ]
  },
  {
   "cell_type": "code",
   "execution_count": 14,
   "metadata": {},
   "outputs": [],
   "source": [
    "# Missing Values: return a dataframe with number of missing values for each feature and its percentage\n",
    "def check_missing_value(df):\n",
    "    total = df.isnull().sum().sort_values(ascending=False)\n",
    "    percent = (df.isnull().sum()/df.isnull().count()*100).sort_values(ascending=False)\n",
    "    missing_values_table = pd.concat([total, percent], axis=1, keys=['Total', 'Percent'])\n",
    "    pd.set_option('display.max_rows', None)\n",
    "\n",
    "    return missing_values_table"
   ]
  },
  {
   "cell_type": "code",
   "execution_count": 15,
   "metadata": {},
   "outputs": [
    {
     "data": {
      "text/html": [
       "<div>\n",
       "<style scoped>\n",
       "    .dataframe tbody tr th:only-of-type {\n",
       "        vertical-align: middle;\n",
       "    }\n",
       "\n",
       "    .dataframe tbody tr th {\n",
       "        vertical-align: top;\n",
       "    }\n",
       "\n",
       "    .dataframe thead th {\n",
       "        text-align: right;\n",
       "    }\n",
       "</style>\n",
       "<table border=\"1\" class=\"dataframe\">\n",
       "  <thead>\n",
       "    <tr style=\"text-align: right;\">\n",
       "      <th></th>\n",
       "      <th>Total</th>\n",
       "      <th>Percent</th>\n",
       "    </tr>\n",
       "  </thead>\n",
       "  <tbody>\n",
       "    <tr>\n",
       "      <th>author_image</th>\n",
       "      <td>17629</td>\n",
       "      <td>86.501472</td>\n",
       "    </tr>\n",
       "    <tr>\n",
       "      <th>author_name</th>\n",
       "      <td>1</td>\n",
       "      <td>0.004907</td>\n",
       "    </tr>\n",
       "    <tr>\n",
       "      <th>total_word_count</th>\n",
       "      <td>0</td>\n",
       "      <td>0.000000</td>\n",
       "    </tr>\n",
       "    <tr>\n",
       "      <th>body_word_count</th>\n",
       "      <td>0</td>\n",
       "      <td>0.000000</td>\n",
       "    </tr>\n",
       "    <tr>\n",
       "      <th>@type</th>\n",
       "      <td>0</td>\n",
       "      <td>0.000000</td>\n",
       "    </tr>\n",
       "    <tr>\n",
       "      <th>datePublished</th>\n",
       "      <td>0</td>\n",
       "      <td>0.000000</td>\n",
       "    </tr>\n",
       "    <tr>\n",
       "      <th>headline</th>\n",
       "      <td>0</td>\n",
       "      <td>0.000000</td>\n",
       "    </tr>\n",
       "    <tr>\n",
       "      <th>inLanguage</th>\n",
       "      <td>0</td>\n",
       "      <td>0.000000</td>\n",
       "    </tr>\n",
       "    <tr>\n",
       "      <th>reviewBody</th>\n",
       "      <td>0</td>\n",
       "      <td>0.000000</td>\n",
       "    </tr>\n",
       "    <tr>\n",
       "      <th>author_@type</th>\n",
       "      <td>0</td>\n",
       "      <td>0.000000</td>\n",
       "    </tr>\n",
       "    <tr>\n",
       "      <th>author_url</th>\n",
       "      <td>0</td>\n",
       "      <td>0.000000</td>\n",
       "    </tr>\n",
       "    <tr>\n",
       "      <th>itemReviewed_@type</th>\n",
       "      <td>0</td>\n",
       "      <td>0.000000</td>\n",
       "    </tr>\n",
       "    <tr>\n",
       "      <th>itemReviewed_name</th>\n",
       "      <td>0</td>\n",
       "      <td>0.000000</td>\n",
       "    </tr>\n",
       "    <tr>\n",
       "      <th>publisher_@type</th>\n",
       "      <td>0</td>\n",
       "      <td>0.000000</td>\n",
       "    </tr>\n",
       "    <tr>\n",
       "      <th>publisher_name</th>\n",
       "      <td>0</td>\n",
       "      <td>0.000000</td>\n",
       "    </tr>\n",
       "    <tr>\n",
       "      <th>publisher_sameAs</th>\n",
       "      <td>0</td>\n",
       "      <td>0.000000</td>\n",
       "    </tr>\n",
       "    <tr>\n",
       "      <th>reviewRating_@type</th>\n",
       "      <td>0</td>\n",
       "      <td>0.000000</td>\n",
       "    </tr>\n",
       "    <tr>\n",
       "      <th>reviewRating_ratingValue</th>\n",
       "      <td>0</td>\n",
       "      <td>0.000000</td>\n",
       "    </tr>\n",
       "    <tr>\n",
       "      <th>head_word_count</th>\n",
       "      <td>0</td>\n",
       "      <td>0.000000</td>\n",
       "    </tr>\n",
       "    <tr>\n",
       "      <th>Unnamed: 0</th>\n",
       "      <td>0</td>\n",
       "      <td>0.000000</td>\n",
       "    </tr>\n",
       "  </tbody>\n",
       "</table>\n",
       "</div>"
      ],
      "text/plain": [
       "                          Total    Percent\n",
       "author_image              17629  86.501472\n",
       "author_name                   1   0.004907\n",
       "total_word_count              0   0.000000\n",
       "body_word_count               0   0.000000\n",
       "@type                         0   0.000000\n",
       "datePublished                 0   0.000000\n",
       "headline                      0   0.000000\n",
       "inLanguage                    0   0.000000\n",
       "reviewBody                    0   0.000000\n",
       "author_@type                  0   0.000000\n",
       "author_url                    0   0.000000\n",
       "itemReviewed_@type            0   0.000000\n",
       "itemReviewed_name             0   0.000000\n",
       "publisher_@type               0   0.000000\n",
       "publisher_name                0   0.000000\n",
       "publisher_sameAs              0   0.000000\n",
       "reviewRating_@type            0   0.000000\n",
       "reviewRating_ratingValue      0   0.000000\n",
       "head_word_count               0   0.000000\n",
       "Unnamed: 0                    0   0.000000"
      ]
     },
     "execution_count": 15,
     "metadata": {},
     "output_type": "execute_result"
    }
   ],
   "source": [
    "check_missing_value(df)"
   ]
  },
  {
   "cell_type": "markdown",
   "metadata": {},
   "source": [
    "Th missing values in author image and name can be ignored as this project will not use both features."
   ]
  },
  {
   "cell_type": "code",
   "execution_count": 16,
   "metadata": {},
   "outputs": [
    {
     "data": {
      "text/plain": [
       "array([1, 2, 3, 4, 5], dtype=int64)"
      ]
     },
     "execution_count": 16,
     "metadata": {},
     "output_type": "execute_result"
    }
   ],
   "source": [
    "#Check input errors\n",
    "np.sort(df['reviewRating_ratingValue'].unique())"
   ]
  },
  {
   "cell_type": "markdown",
   "metadata": {},
   "source": [
    "It is confirmed that the ratings value between 1 and 5 only, inclusive.\n",
    "\n",
    "Now, manually check if there's any discrepancies in the head/body of feedback. It seems that the headline is automatically filled with several words from the body if the reviewer did not fill in manually. One characteristic of these kind of feedback head is the symbol … attached at the end of the head. There some seemingly random feedback such as 'Xggv', emoticons such as ':)', shorten word such as 'Fab' from fabulous, typos such as 'consise' (should be 'concise')."
   ]
  },
  {
   "cell_type": "markdown",
   "metadata": {},
   "source": [
    "## 2. Data Preparation"
   ]
  },
  {
   "cell_type": "markdown",
   "metadata": {},
   "source": [
    "### 2.1. Data Selection"
   ]
  },
  {
   "cell_type": "code",
   "execution_count": 17,
   "metadata": {},
   "outputs": [],
   "source": [
    "df.drop(['Unnamed: 0', '@type', 'inLanguage', 'author_@type', 'author_name', 'author_url', 'author_image', \n",
    "         'itemReviewed_@type', 'publisher_@type', 'publisher_name', 'publisher_sameAs',\n",
    "         'reviewRating_@type'], axis=1, inplace=True)"
   ]
  },
  {
   "cell_type": "markdown",
   "metadata": {},
   "source": [
    "The selected columns are chosen simply because they are needed for the project. 'headline', 'reviewBody', and 'reviewRating_ratingValue' make the whole feedback structure. 'itemReviewed_name' is needed to give comparison for business insights purpose. 'datePublished' is also included for indexing/sorting purpose. The excluded columns might be useful, but they can be explored further as a future work direction."
   ]
  },
  {
   "cell_type": "code",
   "execution_count": 18,
   "metadata": {},
   "outputs": [
    {
     "data": {
      "text/html": [
       "<div>\n",
       "<style scoped>\n",
       "    .dataframe tbody tr th:only-of-type {\n",
       "        vertical-align: middle;\n",
       "    }\n",
       "\n",
       "    .dataframe tbody tr th {\n",
       "        vertical-align: top;\n",
       "    }\n",
       "\n",
       "    .dataframe thead th {\n",
       "        text-align: right;\n",
       "    }\n",
       "</style>\n",
       "<table border=\"1\" class=\"dataframe\">\n",
       "  <thead>\n",
       "    <tr style=\"text-align: right;\">\n",
       "      <th></th>\n",
       "      <th>datePublished</th>\n",
       "      <th>headline</th>\n",
       "      <th>reviewBody</th>\n",
       "      <th>itemReviewed_name</th>\n",
       "      <th>reviewRating_ratingValue</th>\n",
       "      <th>head_word_count</th>\n",
       "      <th>body_word_count</th>\n",
       "      <th>total_word_count</th>\n",
       "    </tr>\n",
       "  </thead>\n",
       "  <tbody>\n",
       "    <tr>\n",
       "      <th>0</th>\n",
       "      <td>2021-06-15T02:22:01+00:00</td>\n",
       "      <td>Thanks again to Andre for your prompt…</td>\n",
       "      <td>Thanks again to Andre for your prompt follow-u...</td>\n",
       "      <td>Avado</td>\n",
       "      <td>4</td>\n",
       "      <td>7</td>\n",
       "      <td>10</td>\n",
       "      <td>17</td>\n",
       "    </tr>\n",
       "    <tr>\n",
       "      <th>1</th>\n",
       "      <td>2021-06-07T20:17:54+00:00</td>\n",
       "      <td>Very disappointed</td>\n",
       "      <td>Very disappointed, I planned on taking this to...</td>\n",
       "      <td>Avado</td>\n",
       "      <td>1</td>\n",
       "      <td>2</td>\n",
       "      <td>122</td>\n",
       "      <td>124</td>\n",
       "    </tr>\n",
       "    <tr>\n",
       "      <th>2</th>\n",
       "      <td>2021-06-02T15:37:44+00:00</td>\n",
       "      <td>Great customer care!</td>\n",
       "      <td>Great customer care!</td>\n",
       "      <td>Avado</td>\n",
       "      <td>5</td>\n",
       "      <td>3</td>\n",
       "      <td>3</td>\n",
       "      <td>6</td>\n",
       "    </tr>\n",
       "    <tr>\n",
       "      <th>3</th>\n",
       "      <td>2021-06-01T16:16:19+00:00</td>\n",
       "      <td>Very helpful with queries and issues</td>\n",
       "      <td>Very helpful with queries and issues.  The res...</td>\n",
       "      <td>Avado</td>\n",
       "      <td>5</td>\n",
       "      <td>6</td>\n",
       "      <td>41</td>\n",
       "      <td>47</td>\n",
       "    </tr>\n",
       "    <tr>\n",
       "      <th>4</th>\n",
       "      <td>2021-06-01T09:16:57+00:00</td>\n",
       "      <td>about amending system error</td>\n",
       "      <td>Dear Mr. Andre\\nThank you very much settle for...</td>\n",
       "      <td>Avado</td>\n",
       "      <td>5</td>\n",
       "      <td>4</td>\n",
       "      <td>13</td>\n",
       "      <td>17</td>\n",
       "    </tr>\n",
       "  </tbody>\n",
       "</table>\n",
       "</div>"
      ],
      "text/plain": [
       "               datePublished                                headline  \\\n",
       "0  2021-06-15T02:22:01+00:00  Thanks again to Andre for your prompt…   \n",
       "1  2021-06-07T20:17:54+00:00                       Very disappointed   \n",
       "2  2021-06-02T15:37:44+00:00                    Great customer care!   \n",
       "3  2021-06-01T16:16:19+00:00    Very helpful with queries and issues   \n",
       "4  2021-06-01T09:16:57+00:00             about amending system error   \n",
       "\n",
       "                                          reviewBody itemReviewed_name  \\\n",
       "0  Thanks again to Andre for your prompt follow-u...             Avado   \n",
       "1  Very disappointed, I planned on taking this to...             Avado   \n",
       "2                               Great customer care!             Avado   \n",
       "3  Very helpful with queries and issues.  The res...             Avado   \n",
       "4  Dear Mr. Andre\\nThank you very much settle for...             Avado   \n",
       "\n",
       "   reviewRating_ratingValue  head_word_count  body_word_count  \\\n",
       "0                         4                7               10   \n",
       "1                         1                2              122   \n",
       "2                         5                3                3   \n",
       "3                         5                6               41   \n",
       "4                         5                4               13   \n",
       "\n",
       "   total_word_count  \n",
       "0                17  \n",
       "1               124  \n",
       "2                 6  \n",
       "3                47  \n",
       "4                17  "
      ]
     },
     "execution_count": 18,
     "metadata": {},
     "output_type": "execute_result"
    }
   ],
   "source": [
    "df.head()"
   ]
  },
  {
   "cell_type": "markdown",
   "metadata": {},
   "source": [
    "## 2.2. Data Cleaning"
   ]
  },
  {
   "cell_type": "code",
   "execution_count": 19,
   "metadata": {},
   "outputs": [],
   "source": [
    "# remove unwanted characters, numbers and symbols\n",
    "df['headline_clean'] = df['headline'].apply(lambda text: \" \".join(re.findall(\"[a-zA-Z]+\", text)))\n",
    "df['reviewBody_clean'] = df['reviewBody'].apply(lambda text: \" \".join(re.findall(\"[a-zA-Z]+\", text)))\n",
    "\n",
    "# make entire text lowercase\n",
    "df['headline_clean'] = [r.lower() for r in df['headline_clean']]\n",
    "df['reviewBody_clean'] = [r.lower() for r in df['reviewBody_clean']]\n",
    "\n",
    "stop_words = stopwords.words('english')\n",
    "\n",
    "def remove_stopwords(rev):\n",
    "    rev_new = \" \".join([i for i in rev if i not in stop_words])\n",
    "    return rev_new\n",
    "\n",
    "# remove stopwords from the text\n",
    "df['headline_clean'] = [remove_stopwords(r.split()) for r in df['headline_clean']]\n",
    "df['reviewBody_clean'] = [remove_stopwords(r.split()) for r in df['reviewBody_clean']]"
   ]
  },
  {
   "cell_type": "code",
   "execution_count": 20,
   "metadata": {},
   "outputs": [
    {
     "data": {
      "text/plain": [
       "'disappointed planned taking get cipd lol hr since recently changed profession job told hope transferring hr cancel everything still within days allowance tried numerous times reach avado recent discussion student support cancel get refund since still month st course starts within days days one replying helping expect someone even complete enrollment even respond within days totally unacceptable'"
      ]
     },
     "execution_count": 20,
     "metadata": {},
     "output_type": "execute_result"
    }
   ],
   "source": [
    "df['reviewBody_clean'].iloc[1]"
   ]
  },
  {
   "cell_type": "code",
   "execution_count": 21,
   "metadata": {},
   "outputs": [
    {
     "data": {
      "text/plain": [
       "'absolutely fantastic experince great cohort amazing support mentor student success team completed within deadlines actually perfectly worked learning style brilliant vle content'"
      ]
     },
     "execution_count": 21,
     "metadata": {},
     "output_type": "execute_result"
    }
   ],
   "source": [
    "df['reviewBody_clean'].iloc[10]"
   ]
  },
  {
   "cell_type": "code",
   "execution_count": 22,
   "metadata": {},
   "outputs": [],
   "source": [
    "# Lemmatize the words in the feedback based on the pos tag\n",
    "def get_simple_pos(tag):\n",
    "    if tag.startswith('J'):\n",
    "        return wordnet.ADJ\n",
    "    elif tag.startswith('V'):\n",
    "        return wordnet.VERB\n",
    "    elif tag.startswith('N'):\n",
    "        return wordnet.NOUN\n",
    "    elif tag.startswith('R'):\n",
    "        return wordnet.ADV\n",
    "    else:\n",
    "        return wordnet.NOUN\n",
    "\n",
    "lemmatizer = WordNetLemmatizer()\n",
    "def lemmatize_words(text):\n",
    "    final_text = []\n",
    "    for i in text.split():\n",
    "        pos = pos_tag([i.strip()])\n",
    "        word = lemmatizer.lemmatize(i.strip(),get_simple_pos(pos[0][1]))\n",
    "        final_text.append(word)\n",
    "    return \" \".join(final_text)\n",
    "\n",
    "df['lemmatized_headline'] = df['headline_clean'].apply(lemmatize_words)\n",
    "df['lemmatized_reviewBody'] = df['reviewBody_clean'].apply(lemmatize_words) # without punctuation marks & stopwords\n",
    "df['lemmatized_reviewBody_original'] = df['reviewBody'].apply(lemmatize_words) # still with punctuation marks & stopwords"
   ]
  },
  {
   "cell_type": "code",
   "execution_count": 23,
   "metadata": {},
   "outputs": [
    {
     "data": {
      "text/plain": [
       "'disappointed plan take get cipd lol hr since recently change profession job told hope transfer hr cancel everything still within day allowance try numerous time reach avado recent discussion student support cancel get refund since still month st course start within day day one reply help expect someone even complete enrollment even respond within day totally unacceptable'"
      ]
     },
     "execution_count": 23,
     "metadata": {},
     "output_type": "execute_result"
    }
   ],
   "source": [
    "df['lemmatized_reviewBody'].iloc[1]"
   ]
  },
  {
   "cell_type": "code",
   "execution_count": 24,
   "metadata": {},
   "outputs": [
    {
     "data": {
      "text/plain": [
       "'absolutely fantastic experince great cohort amaze support mentor student success team complete within deadline actually perfectly work learn style brilliant vle content'"
      ]
     },
     "execution_count": 24,
     "metadata": {},
     "output_type": "execute_result"
    }
   ],
   "source": [
    "df['lemmatized_reviewBody'].iloc[10]"
   ]
  },
  {
   "cell_type": "code",
   "execution_count": 25,
   "metadata": {},
   "outputs": [
    {
     "data": {
      "text/plain": [
       "\"I absolutely have a fantastic experince. Great cohort, amaze support from our mentor and student success team. I've complete all within the deadline which be actually what perfectly work for my learn style. Brilliant VLE and the content.\""
      ]
     },
     "execution_count": 25,
     "metadata": {},
     "output_type": "execute_result"
    }
   ],
   "source": [
    "df['lemmatized_reviewBody_original'].iloc[10]"
   ]
  },
  {
   "cell_type": "markdown",
   "metadata": {},
   "source": [
    "### 2.3. Data Construction"
   ]
  },
  {
   "cell_type": "code",
   "execution_count": 26,
   "metadata": {},
   "outputs": [],
   "source": [
    "# word count\n",
    "df['head_word_count'] = df['headline'].apply(lambda x: len(str(x).split()))\n",
    "df['body_word_count'] = df['reviewBody'].apply(lambda x: len(str(x).split()))\n",
    "df['total_word_count'] = df['head_word_count'] + df['body_word_count']\n",
    "\n",
    "# combine head and body\n",
    "df['lemmatized_feedback'] = df['lemmatized_headline'] + ' ' + df['lemmatized_reviewBody']\n",
    "\n",
    "# convert rating to binary class\n",
    "def sentiment_rating(rating):\n",
    "    # Replacing ratings of 1,2,3 with 0 (not good) and 4,5 with 1 (good)\n",
    "    if(int(rating) == 1 or int(rating) == 2 or int(rating) == 3):\n",
    "        return 0\n",
    "    else: \n",
    "        return 1\n",
    "\n",
    "df['overall_rating'] = df['reviewRating_ratingValue'].apply(sentiment_rating) "
   ]
  },
  {
   "cell_type": "code",
   "execution_count": 27,
   "metadata": {},
   "outputs": [
    {
     "data": {
      "text/html": [
       "<div>\n",
       "<style scoped>\n",
       "    .dataframe tbody tr th:only-of-type {\n",
       "        vertical-align: middle;\n",
       "    }\n",
       "\n",
       "    .dataframe tbody tr th {\n",
       "        vertical-align: top;\n",
       "    }\n",
       "\n",
       "    .dataframe thead th {\n",
       "        text-align: right;\n",
       "    }\n",
       "</style>\n",
       "<table border=\"1\" class=\"dataframe\">\n",
       "  <thead>\n",
       "    <tr style=\"text-align: right;\">\n",
       "      <th></th>\n",
       "      <th>datePublished</th>\n",
       "      <th>headline</th>\n",
       "      <th>reviewBody</th>\n",
       "      <th>itemReviewed_name</th>\n",
       "      <th>reviewRating_ratingValue</th>\n",
       "      <th>head_word_count</th>\n",
       "      <th>body_word_count</th>\n",
       "      <th>total_word_count</th>\n",
       "      <th>headline_clean</th>\n",
       "      <th>reviewBody_clean</th>\n",
       "      <th>lemmatized_headline</th>\n",
       "      <th>lemmatized_reviewBody</th>\n",
       "      <th>lemmatized_reviewBody_original</th>\n",
       "      <th>lemmatized_feedback</th>\n",
       "      <th>overall_rating</th>\n",
       "    </tr>\n",
       "  </thead>\n",
       "  <tbody>\n",
       "    <tr>\n",
       "      <th>0</th>\n",
       "      <td>2021-06-15T02:22:01+00:00</td>\n",
       "      <td>Thanks again to Andre for your prompt…</td>\n",
       "      <td>Thanks again to Andre for your prompt follow-u...</td>\n",
       "      <td>Avado</td>\n",
       "      <td>4</td>\n",
       "      <td>7</td>\n",
       "      <td>10</td>\n",
       "      <td>17</td>\n",
       "      <td>thanks andre prompt</td>\n",
       "      <td>thanks andre prompt follow response</td>\n",
       "      <td>thanks andre prompt</td>\n",
       "      <td>thanks andre prompt follow response</td>\n",
       "      <td>Thanks again to Andre for your prompt follow-u...</td>\n",
       "      <td>thanks andre prompt thanks andre prompt follow...</td>\n",
       "      <td>1</td>\n",
       "    </tr>\n",
       "    <tr>\n",
       "      <th>1</th>\n",
       "      <td>2021-06-07T20:17:54+00:00</td>\n",
       "      <td>Very disappointed</td>\n",
       "      <td>Very disappointed, I planned on taking this to...</td>\n",
       "      <td>Avado</td>\n",
       "      <td>1</td>\n",
       "      <td>2</td>\n",
       "      <td>122</td>\n",
       "      <td>124</td>\n",
       "      <td>disappointed</td>\n",
       "      <td>disappointed planned taking get cipd lol hr si...</td>\n",
       "      <td>disappointed</td>\n",
       "      <td>disappointed plan take get cipd lol hr since r...</td>\n",
       "      <td>Very disappointed, I plan on take this to get ...</td>\n",
       "      <td>disappointed disappointed plan take get cipd l...</td>\n",
       "      <td>0</td>\n",
       "    </tr>\n",
       "    <tr>\n",
       "      <th>2</th>\n",
       "      <td>2021-06-02T15:37:44+00:00</td>\n",
       "      <td>Great customer care!</td>\n",
       "      <td>Great customer care!</td>\n",
       "      <td>Avado</td>\n",
       "      <td>5</td>\n",
       "      <td>3</td>\n",
       "      <td>3</td>\n",
       "      <td>6</td>\n",
       "      <td>great customer care</td>\n",
       "      <td>great customer care</td>\n",
       "      <td>great customer care</td>\n",
       "      <td>great customer care</td>\n",
       "      <td>Great customer care!</td>\n",
       "      <td>great customer care great customer care</td>\n",
       "      <td>1</td>\n",
       "    </tr>\n",
       "    <tr>\n",
       "      <th>3</th>\n",
       "      <td>2021-06-01T16:16:19+00:00</td>\n",
       "      <td>Very helpful with queries and issues</td>\n",
       "      <td>Very helpful with queries and issues.  The res...</td>\n",
       "      <td>Avado</td>\n",
       "      <td>5</td>\n",
       "      <td>6</td>\n",
       "      <td>41</td>\n",
       "      <td>47</td>\n",
       "      <td>helpful queries issues</td>\n",
       "      <td>helpful queries issues response time february ...</td>\n",
       "      <td>helpful query issue</td>\n",
       "      <td>helpful query issue response time february sta...</td>\n",
       "      <td>Very helpful with query and issues. The respon...</td>\n",
       "      <td>helpful query issue helpful query issue respon...</td>\n",
       "      <td>1</td>\n",
       "    </tr>\n",
       "    <tr>\n",
       "      <th>4</th>\n",
       "      <td>2021-06-01T09:16:57+00:00</td>\n",
       "      <td>about amending system error</td>\n",
       "      <td>Dear Mr. Andre\\nThank you very much settle for...</td>\n",
       "      <td>Avado</td>\n",
       "      <td>5</td>\n",
       "      <td>4</td>\n",
       "      <td>13</td>\n",
       "      <td>17</td>\n",
       "      <td>amending system error</td>\n",
       "      <td>dear mr andre thank much settle system error soon</td>\n",
       "      <td>amend system error</td>\n",
       "      <td>dear mr andre thank much settle system error soon</td>\n",
       "      <td>Dear Mr. Andre Thank you very much settle for ...</td>\n",
       "      <td>amend system error dear mr andre thank much se...</td>\n",
       "      <td>1</td>\n",
       "    </tr>\n",
       "  </tbody>\n",
       "</table>\n",
       "</div>"
      ],
      "text/plain": [
       "               datePublished                                headline  \\\n",
       "0  2021-06-15T02:22:01+00:00  Thanks again to Andre for your prompt…   \n",
       "1  2021-06-07T20:17:54+00:00                       Very disappointed   \n",
       "2  2021-06-02T15:37:44+00:00                    Great customer care!   \n",
       "3  2021-06-01T16:16:19+00:00    Very helpful with queries and issues   \n",
       "4  2021-06-01T09:16:57+00:00             about amending system error   \n",
       "\n",
       "                                          reviewBody itemReviewed_name  \\\n",
       "0  Thanks again to Andre for your prompt follow-u...             Avado   \n",
       "1  Very disappointed, I planned on taking this to...             Avado   \n",
       "2                               Great customer care!             Avado   \n",
       "3  Very helpful with queries and issues.  The res...             Avado   \n",
       "4  Dear Mr. Andre\\nThank you very much settle for...             Avado   \n",
       "\n",
       "   reviewRating_ratingValue  head_word_count  body_word_count  \\\n",
       "0                         4                7               10   \n",
       "1                         1                2              122   \n",
       "2                         5                3                3   \n",
       "3                         5                6               41   \n",
       "4                         5                4               13   \n",
       "\n",
       "   total_word_count          headline_clean  \\\n",
       "0                17     thanks andre prompt   \n",
       "1               124            disappointed   \n",
       "2                 6     great customer care   \n",
       "3                47  helpful queries issues   \n",
       "4                17   amending system error   \n",
       "\n",
       "                                    reviewBody_clean  lemmatized_headline  \\\n",
       "0                thanks andre prompt follow response  thanks andre prompt   \n",
       "1  disappointed planned taking get cipd lol hr si...         disappointed   \n",
       "2                                great customer care  great customer care   \n",
       "3  helpful queries issues response time february ...  helpful query issue   \n",
       "4  dear mr andre thank much settle system error soon   amend system error   \n",
       "\n",
       "                               lemmatized_reviewBody  \\\n",
       "0                thanks andre prompt follow response   \n",
       "1  disappointed plan take get cipd lol hr since r...   \n",
       "2                                great customer care   \n",
       "3  helpful query issue response time february sta...   \n",
       "4  dear mr andre thank much settle system error soon   \n",
       "\n",
       "                      lemmatized_reviewBody_original  \\\n",
       "0  Thanks again to Andre for your prompt follow-u...   \n",
       "1  Very disappointed, I plan on take this to get ...   \n",
       "2                               Great customer care!   \n",
       "3  Very helpful with query and issues. The respon...   \n",
       "4  Dear Mr. Andre Thank you very much settle for ...   \n",
       "\n",
       "                                 lemmatized_feedback  overall_rating  \n",
       "0  thanks andre prompt thanks andre prompt follow...               1  \n",
       "1  disappointed disappointed plan take get cipd l...               0  \n",
       "2            great customer care great customer care               1  \n",
       "3  helpful query issue helpful query issue respon...               1  \n",
       "4  amend system error dear mr andre thank much se...               1  "
      ]
     },
     "execution_count": 27,
     "metadata": {},
     "output_type": "execute_result"
    }
   ],
   "source": [
    "df.head()"
   ]
  },
  {
   "cell_type": "markdown",
   "metadata": {},
   "source": [
    "### 2. Final Dataset"
   ]
  },
  {
   "cell_type": "code",
   "execution_count": 28,
   "metadata": {},
   "outputs": [],
   "source": [
    "df.to_csv('../Dataset/trustpilot_reviews.csv', index=False)"
   ]
  }
 ],
 "metadata": {
  "kernelspec": {
   "display_name": "Python 3",
   "language": "python",
   "name": "python3"
  },
  "language_info": {
   "codemirror_mode": {
    "name": "ipython",
    "version": 3
   },
   "file_extension": ".py",
   "mimetype": "text/x-python",
   "name": "python",
   "nbconvert_exporter": "python",
   "pygments_lexer": "ipython3",
   "version": "3.7.7"
  }
 },
 "nbformat": 4,
 "nbformat_minor": 4
}
